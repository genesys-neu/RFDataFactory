{
 "cells": [
  {
   "cell_type": "code",
   "execution_count": 43,
   "metadata": {},
   "outputs": [],
   "source": [
    "import h5py\n",
    "import os\n",
    "import numpy as np\n",
    "import cv2\n",
    "import open3d as o3d\n",
    "import re\n",
    "import argparse\n",
    "\n",
    "\n",
    "def read_from_hdf5_dataset(hdf5_file_path):\n",
    "    # to read hdf5 file\n",
    "    hdf5_dataset_read_obj = h5py.File(hdf5_file_path,'r')\n",
    "\n",
    "    # Examples of accessing files\n",
    "    # reading items from hdf5 file\n",
    "    hdf5_items = list(hdf5_dataset_read_obj.items())\n",
    "    print(\"hdf5 items\",hdf5_items)\n",
    "\n",
    "    #reading items from the groups\n",
    "    sensor_group = hdf5_dataset_read_obj.get('Sensors')\n",
    "    print(\"List of subgroups from Sensors group\",list(sensor_group.items())) \n",
    "    label_group = hdf5_dataset_read_obj.get('Label')\n",
    "    print(\"List of subgroups from Label group\",list(label_group.items())) \n",
    "    \n",
    "    #reading items from the Sensors/coord subgroups\n",
    "    sensor_coord_subgroup = sensor_group.get('coord')\n",
    "    print(\"Items in coord \",list(sensor_coord_subgroup.items()))\n",
    "    print(\"Reading coord file \",np.array(sensor_coord_subgroup.get(\"Sensors_coord_ds_0\")))\n",
    "    \n",
    "    #accessing individual list from the Label groups\n",
    "    for i in list(label_group.get(\"Label_ds_0\")):\n",
    "        print(i)\n",
    "\n",
    "    #accessing metadata\n",
    "    print(\"Items in metadata\",hdf5_dataset_read_obj.attrs.keys())\n",
    "    print(\"Accessing attribute\",hdf5_dataset_read_obj.attrs['Mobility']) # Can check for any attribute"
   ]
  },
  {
   "cell_type": "code",
   "execution_count": 44,
   "metadata": {},
   "outputs": [
    {
     "name": "stdout",
     "output_type": "stream",
     "text": [
      "hdf5 items [('Label', <HDF5 group \"/Label\" (1 members)>), ('Sensors', <HDF5 group \"/Sensors\" (5 members)>)]\n",
      "List of subgroups from Sensors group [('coord', <HDF5 group \"/Sensors/coord\" (1 members)>), ('hero4', <HDF5 group \"/Sensors/hero4\" (1 members)>), ('hero9', <HDF5 group \"/Sensors/hero9\" (1 members)>), ('ost', <HDF5 group \"/Sensors/ost\" (1 members)>), ('vlp', <HDF5 group \"/Sensors/vlp\" (1 members)>)]\n",
      "List of subgroups from Label group [('Label_ds_0', <HDF5 dataset \"Label_ds_0\": shape (2, 24), type \"<i8\">)]\n",
      "Items in coord  [('Sensors_coord_ds_0', <HDF5 dataset \"Sensors_coord_ds_0\": shape (2,), type \"<f8\">)]\n",
      "Reading coord file  [ 42.337872   -71.08687667]\n",
      "[ 2  3  4  7  8  9 10 12 12 16 16 16 19 20 22 23 24 26 26 28 29 30 61 63]\n",
      "[4896 5864 6144 4584 4367 4276 6342 5552 4882 5861 4852 4642 6366 6010\n",
      " 5579 5342 4999 5642 4466 4868 5360 5772 4492 5128]\n",
      "Items in metadata <KeysViewHDF5 ['Category', 'Direction', 'Lane', 'Mobility', 'NLOS Object', 'Position', 'Speed']>\n",
      "Accessing attribute  Static\n",
      "\n"
     ]
    }
   ],
   "source": [
    "if __name__ == '__main__':\n",
    "    # Parser caller arguments\n",
    "    argin = argparse.ArgumentParser(description=r\"\"\"Reading data from HDF5 dataset...\"\"\")\n",
    "    argin.add_argument('-p', '--hdf5_file_path', dest='hdf5_file_path', type=str, required=True,\n",
    "                       help='Path of HDF5 dataset file with .hdf5 extension')\n",
    "\n",
    "    args = argin.parse_args()\n",
    "    hdf5_file_path = args.hdf5_file_path\n",
    "\n",
    "#     hdf5_file_path = os.path.join(os.getcwd(), \"Flash_HDF5.hdf5\")\n",
    "\n",
    "    read_from_hdf5_dataset(hdf5_file_path)\n",
    "    "
   ]
  },
  {
   "cell_type": "code",
   "execution_count": null,
   "metadata": {},
   "outputs": [],
   "source": []
  },
  {
   "cell_type": "code",
   "execution_count": null,
   "metadata": {},
   "outputs": [],
   "source": []
  }
 ],
 "metadata": {
  "kernelspec": {
   "display_name": "Python 3",
   "language": "python",
   "name": "python3"
  },
  "language_info": {
   "codemirror_mode": {
    "name": "ipython",
    "version": 3
   },
   "file_extension": ".py",
   "mimetype": "text/x-python",
   "name": "python",
   "nbconvert_exporter": "python",
   "pygments_lexer": "ipython3",
   "version": "3.8.5"
  }
 },
 "nbformat": 4,
 "nbformat_minor": 4
}
