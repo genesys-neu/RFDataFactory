{
 "cells": [
  {
   "cell_type": "code",
   "execution_count": 1,
   "metadata": {},
   "outputs": [],
   "source": [
    "import h5py\n",
    "import os\n",
    "import numpy as np\n",
    "import cv2\n",
    "import open3d as o3d\n",
    "import re"
   ]
  },
  {
   "cell_type": "code",
   "execution_count": null,
   "metadata": {},
   "outputs": [],
   "source": []
  },
  {
   "cell_type": "code",
   "execution_count": 2,
   "metadata": {},
   "outputs": [],
   "source": [
    "# flash_dataset_hf = h5py.File(\"path/Flash_sample_dataset.hdf5\",'w')\n",
    "hdf5_file_name = os.path.join(os.getcwd(), \"Flash_sample_dataset.hdf5\")\n",
    "if not os.path.isfile(hdf5_file_name):\n",
    "    flash_dataset_hf = h5py.File(hdf5_file_name,'w')\n",
    "\n",
    "# Group 1- Sensors\n",
    "Sensors = flash_dataset_hf.create_group('Sensors')\n",
    "# Group 1- subfolders\n",
    "coord = Sensors.create_group('coord')\n",
    "hero4 = Sensors.create_group('hero4')\n",
    "hero9 = Sensors.create_group('hero9')\n",
    "vlp = Sensors.create_group('vlp')\n",
    "ost = Sensors.create_group('ost')\n",
    "\n",
    "# Group 2- Label\n",
    "Label = flash_dataset_hf.create_group('Label')\n",
    "\n",
    "# metadata file for dataset\n",
    "flash_dataset_hf.attrs['Category'] = 'Cat3'\n",
    "flash_dataset_hf.attrs['NLOS Object'] = 'Car'\n",
    "flash_dataset_hf.attrs['Mobility'] = 'Static'\n",
    "flash_dataset_hf.attrs['Position'] = 'Front'\n",
    "flash_dataset_hf.attrs['Speed'] = '15mph'\n",
    "flash_dataset_hf.attrs['Direction'] = 'LR'\n",
    "flash_dataset_hf.attrs['Lane'] = 'Opposite'\n",
    "\n",
    "\n",
    "\n",
    "\n"
   ]
  },
  {
   "cell_type": "code",
   "execution_count": 3,
   "metadata": {},
   "outputs": [
    {
     "name": "stdout",
     "output_type": "stream",
     "text": [
      "Hello\n"
     ]
    }
   ],
   "source": [
    "# to read data from local folder and creating dataset in hdf5 groups/subgroups\n",
    "sensors_path = os.path.join(os.getcwd(),'FLASH_dataset_samples/Sensors')\n",
    "label_path = os.path.join(os.getcwd(),'FLASH_dataset_samples/Label')\n",
    "\n",
    "\n",
    "#creating dataset for sensors\n",
    "subgroup_names = ['coord', 'hero4','hero9','vlp','ost']\n",
    "for subgroup in subgroup_names:\n",
    "    subgroup_path = os.path.join(sensors_path, subgroup)\n",
    "    files_list = os.listdir(subgroup_path) \n",
    "    \n",
    "    if (subgroup ==  \"coord\"):\n",
    "        for count, file_name in enumerate (files_list):\n",
    "            if file_name.endswith('.txt'):\n",
    "                value = np.loadtxt(os.path.join(subgroup_path,file_name))\n",
    "                name = \"Sensors_\"+str(subgroup)+\"_ds_\"+str(count)\n",
    "                if name not in Sensors[subgroup].keys():\n",
    "                    IQ = coord.create_dataset(name=name,data = value)\n",
    "\n",
    "    if (subgroup ==  \"hero4\"):\n",
    "            for count, file_name in enumerate (files_list):\n",
    "                if file_name.endswith('.jpg'):\n",
    "                    value = cv2.imread(os.path.join(subgroup_path,file_name)) # reads image in BGR format\n",
    "                    name = \"Sensors_\"+str(subgroup)+\"_ds_\"+str(count)\n",
    "                    if name not in Sensors[subgroup].keys():\n",
    "                        IQ = hero4.create_dataset(name=name,data = value)\n",
    "                        \n",
    "                        \n",
    "    if (subgroup ==  \"hero9\"):\n",
    "            for count, file_name in enumerate (files_list):\n",
    "                if file_name.endswith('.jpg'):\n",
    "                    value = cv2.imread(os.path.join(subgroup_path,file_name)) # reads image in BGR format\n",
    "                    name = \"Sensors_\"+str(subgroup)+\"_ds_\"+str(count)\n",
    "                    if name not in Sensors[subgroup].keys():\n",
    "                        IQ = hero9.create_dataset(name=name,data = value)\n",
    "                 \n",
    "\n",
    "    if (subgroup ==  \"vlp\"):\n",
    "            for count, file_name in enumerate (files_list):\n",
    "                if file_name.endswith('.pcd'):\n",
    "                    pcd = o3d.io.read_point_cloud(os.path.join(subgroup_path,file_name))\n",
    "                    value = np.asarray(pcd.points)  \n",
    "                    name = \"Sensors_\"+str(subgroup)+\"_ds_\"+str(count)\n",
    "                    if name not in Sensors[subgroup].keys():\n",
    "                        print(\"Hello\")\n",
    "                        IQ = vlp.create_dataset(name=name,data = value)\n",
    " \n",
    "\n",
    "    if (subgroup ==  \"ost\"):\n",
    "            for count, file_name in enumerate (files_list):\n",
    "                if file_name.endswith('.pcd'):\n",
    "                    pcd = o3d.io.read_point_cloud(os.path.join(subgroup_path,file_name))\n",
    "                    value = np.asarray(pcd.points)  \n",
    "                    name = \"Sensors_\"+str(subgroup)+\"_ds_\"+str(count)\n",
    "                    if name not in Sensors[subgroup].keys():\n",
    "                        IQ = ost.create_dataset(name=name,data = value)\n",
    "         \n",
    "        \n",
    "\n",
    "# # creating dataset for label\n",
    "# files_list = os.listdir(label_path)\n",
    "# for count, file_name in enumerate (files_list):\n",
    "#     with open(os.path.join(label_path,file_name),'r') as f:\n",
    "#         txt = f.read()\n",
    "#         print(txt)\n",
    "#     nums = re.findall(r'\\[([^][]+)\\]', txt)\n",
    "#     print(nums)\n",
    "#     value = np.loadtxt(nums)\n",
    "#     #value = np.loadtxt(os.path.join(label_path,file_name), delimiter=',')\n",
    "#     print(value)\n",
    "#     name = \"Label\"+\"_ds_\"+str(count)\n",
    "#     if name not in flash_dataset_hf.keys():    \n",
    "#         IQ = Label.create_dataset(name=name,data = value)\n",
    "\n",
    "\n",
    "\n"
   ]
  },
  {
   "cell_type": "code",
   "execution_count": 4,
   "metadata": {},
   "outputs": [],
   "source": [
    "# to read the files from hdf5\n",
    "hdf5_dataset_path = os.path.join(os.getcwd(), \"Flash_sample_dataset.hdf5\")\n",
    "reading_hdf5_dataset = h5py.File(hdf5_dataset_path,'r')\n",
    "\n"
   ]
  },
  {
   "cell_type": "code",
   "execution_count": 7,
   "metadata": {},
   "outputs": [
    {
     "name": "stdout",
     "output_type": "stream",
     "text": [
      "hdf5_items [('Label', <HDF5 group \"/Label\" (0 members)>), ('Sensors', <HDF5 group \"/Sensors\" (5 members)>)]\n",
      "reading_sensors [('coord', <HDF5 group \"/Sensors/coord\" (1 members)>), ('hero4', <HDF5 group \"/Sensors/hero4\" (1 members)>), ('hero9', <HDF5 group \"/Sensors/hero9\" (1 members)>), ('ost', <HDF5 group \"/Sensors/ost\" (1 members)>), ('vlp', <HDF5 group \"/Sensors/vlp\" (1 members)>)]\n",
      "coord_items [ 42.337872   -71.08687667]\n",
      "ost [[-0.  0.  0.]\n",
      " [-0.  0.  0.]\n",
      " [-0.  0.  0.]\n",
      " ...\n",
      " [-0. -0. -0.]\n",
      " [-0. -0. -0.]\n",
      " [-0. -0. -0.]]\n"
     ]
    }
   ],
   "source": [
    "# reading items from the hdf5 file\n",
    "hdf5_items = list(reading_hdf5_dataset.items())\n",
    "print(\"hdf5_items\",hdf5_items)\n",
    "\n",
    "\n",
    "#reading items from the coord subgroup\n",
    "reading_group = reading_hdf5_dataset.get('Sensors')\n",
    "print(\"reading_sensors\",list(reading_group.items())) \n",
    "reading_subgroup = reading_group.get('coord')\n",
    "# print(\"coord_items\",list(reading_subgroup.items()))\n",
    "print(\"coord_items\",np.array(reading_subgroup.get(\"Sensors_coord_ds_0\")))\n",
    "\n",
    "\n",
    "\n",
    "reading_subgroup = reading_group.get('ost')\n",
    "print(\"ost\",np.array(reading_subgroup.get(\"Sensors_ost_ds_0\")))\n",
    "\n"
   ]
  },
  {
   "cell_type": "code",
   "execution_count": null,
   "metadata": {},
   "outputs": [],
   "source": []
  },
  {
   "cell_type": "code",
   "execution_count": null,
   "metadata": {},
   "outputs": [],
   "source": []
  }
 ],
 "metadata": {
  "kernelspec": {
   "display_name": "Python 3",
   "language": "python",
   "name": "python3"
  },
  "language_info": {
   "codemirror_mode": {
    "name": "ipython",
    "version": 3
   },
   "file_extension": ".py",
   "mimetype": "text/x-python",
   "name": "python",
   "nbconvert_exporter": "python",
   "pygments_lexer": "ipython3",
   "version": "3.8.5"
  }
 },
 "nbformat": 4,
 "nbformat_minor": 4
}
